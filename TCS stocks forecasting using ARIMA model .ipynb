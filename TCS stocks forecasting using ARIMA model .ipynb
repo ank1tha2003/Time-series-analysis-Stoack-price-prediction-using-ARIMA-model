{
 "cells": [
  {
   "cell_type": "code",
   "execution_count": 5,
   "id": "cf62ab70",
   "metadata": {},
   "outputs": [],
   "source": [
    "import pandas as pd\n",
    "import numpy as np\n",
    "import matplotlib.pyplot as plt\n",
    "\n",
    "from sklearn import metrics\n",
    "from sklearn.metrics import mean_squared_error\n",
    "\n",
    "plt.style.use(\"ggplot\")\n",
    "from statsmodels.tsa.arima_model import ARIMA\n",
    "\n",
    "%matplotlib inline"
   ]
  },
  {
   "cell_type": "code",
   "execution_count": 6,
   "id": "331f106b",
   "metadata": {},
   "outputs": [],
   "source": [
    "plt.rcParams[\"figure.figsize\"] = (12, 6)"
   ]
  },
  {
   "cell_type": "code",
   "execution_count": 7,
   "id": "effdc495",
   "metadata": {},
   "outputs": [
    {
     "data": {
      "text/html": [
       "<div>\n",
       "<style scoped>\n",
       "    .dataframe tbody tr th:only-of-type {\n",
       "        vertical-align: middle;\n",
       "    }\n",
       "\n",
       "    .dataframe tbody tr th {\n",
       "        vertical-align: top;\n",
       "    }\n",
       "\n",
       "    .dataframe thead th {\n",
       "        text-align: right;\n",
       "    }\n",
       "</style>\n",
       "<table border=\"1\" class=\"dataframe\">\n",
       "  <thead>\n",
       "    <tr style=\"text-align: right;\">\n",
       "      <th></th>\n",
       "      <th>Symbol</th>\n",
       "      <th>Series</th>\n",
       "      <th>Date</th>\n",
       "      <th>Prev Close</th>\n",
       "      <th>Open Price</th>\n",
       "      <th>High Price</th>\n",
       "      <th>Low Price</th>\n",
       "      <th>Last Price</th>\n",
       "      <th>Close Price</th>\n",
       "      <th>Average Price</th>\n",
       "      <th>Total Traded Quantity</th>\n",
       "      <th>Turnover ₹</th>\n",
       "      <th>No. of Trades</th>\n",
       "      <th>Deliverable Qty</th>\n",
       "      <th>% Dly Qt to Traded Qty</th>\n",
       "    </tr>\n",
       "  </thead>\n",
       "  <tbody>\n",
       "    <tr>\n",
       "      <th>0</th>\n",
       "      <td>TCS</td>\n",
       "      <td>EQ</td>\n",
       "      <td>28-Jun-23</td>\n",
       "      <td>3197.35</td>\n",
       "      <td>3208.0</td>\n",
       "      <td>3230.95</td>\n",
       "      <td>3193.40</td>\n",
       "      <td>3221.0</td>\n",
       "      <td>3215.45</td>\n",
       "      <td>3215.84</td>\n",
       "      <td>1575872.0</td>\n",
       "      <td>5.067756e+09</td>\n",
       "      <td>125121.0</td>\n",
       "      <td>1031195.00</td>\n",
       "      <td>65.44</td>\n",
       "    </tr>\n",
       "    <tr>\n",
       "      <th>1</th>\n",
       "      <td>TCS</td>\n",
       "      <td>EQ</td>\n",
       "      <td>30-Jun-23</td>\n",
       "      <td>3215.45</td>\n",
       "      <td>3220.0</td>\n",
       "      <td>3310.00</td>\n",
       "      <td>3214.10</td>\n",
       "      <td>3298.4</td>\n",
       "      <td>3302.25</td>\n",
       "      <td>3280.38</td>\n",
       "      <td>2672406.0</td>\n",
       "      <td>8.766501e+09</td>\n",
       "      <td>205777.0</td>\n",
       "      <td>1683039.00</td>\n",
       "      <td>62.98</td>\n",
       "    </tr>\n",
       "    <tr>\n",
       "      <th>2</th>\n",
       "      <td>TCS</td>\n",
       "      <td>EQ</td>\n",
       "      <td>03-Jul-23</td>\n",
       "      <td>3302.25</td>\n",
       "      <td>3314.3</td>\n",
       "      <td>3318.80</td>\n",
       "      <td>3268.75</td>\n",
       "      <td>3274.0</td>\n",
       "      <td>3272.30</td>\n",
       "      <td>3286.37</td>\n",
       "      <td>1687264.0</td>\n",
       "      <td>5.544970e+09</td>\n",
       "      <td>120543.0</td>\n",
       "      <td>1112511.00</td>\n",
       "      <td>65.94</td>\n",
       "    </tr>\n",
       "    <tr>\n",
       "      <th>3</th>\n",
       "      <td>TCS</td>\n",
       "      <td>EQ</td>\n",
       "      <td>04-Jul-23</td>\n",
       "      <td>3272.30</td>\n",
       "      <td>3290.0</td>\n",
       "      <td>3315.00</td>\n",
       "      <td>3277.30</td>\n",
       "      <td>3307.0</td>\n",
       "      <td>3308.85</td>\n",
       "      <td>3298.36</td>\n",
       "      <td>1656681.0</td>\n",
       "      <td>5.464337e+09</td>\n",
       "      <td>100235.0</td>\n",
       "      <td>965070.00</td>\n",
       "      <td>58.25</td>\n",
       "    </tr>\n",
       "    <tr>\n",
       "      <th>4</th>\n",
       "      <td>TCS</td>\n",
       "      <td>EQ</td>\n",
       "      <td>05-Jul-23</td>\n",
       "      <td>3308.85</td>\n",
       "      <td>3320.0</td>\n",
       "      <td>3329.00</td>\n",
       "      <td>3305.00</td>\n",
       "      <td>3322.0</td>\n",
       "      <td>3319.95</td>\n",
       "      <td>3318.57</td>\n",
       "      <td>1453008.0</td>\n",
       "      <td>4.821906e+09</td>\n",
       "      <td>92949.0</td>\n",
       "      <td>857588.00</td>\n",
       "      <td>59.02</td>\n",
       "    </tr>\n",
       "  </tbody>\n",
       "</table>\n",
       "</div>"
      ],
      "text/plain": [
       "  Symbol Series       Date  Prev Close  Open Price  High Price  Low Price  \\\n",
       "0    TCS     EQ  28-Jun-23     3197.35      3208.0     3230.95    3193.40   \n",
       "1    TCS     EQ  30-Jun-23     3215.45      3220.0     3310.00    3214.10   \n",
       "2    TCS     EQ  03-Jul-23     3302.25      3314.3     3318.80    3268.75   \n",
       "3    TCS     EQ  04-Jul-23     3272.30      3290.0     3315.00    3277.30   \n",
       "4    TCS     EQ  05-Jul-23     3308.85      3320.0     3329.00    3305.00   \n",
       "\n",
       "   Last Price  Close Price  Average Price   Total Traded Quantity  \\\n",
       "0      3221.0      3215.45         3215.84              1575872.0   \n",
       "1      3298.4      3302.25         3280.38              2672406.0   \n",
       "2      3274.0      3272.30         3286.37              1687264.0   \n",
       "3      3307.0      3308.85         3298.36              1656681.0   \n",
       "4      3322.0      3319.95         3318.57              1453008.0   \n",
       "\n",
       "     Turnover ₹  No. of Trades Deliverable Qty % Dly Qt to Traded Qty  \n",
       "0  5.067756e+09       125121.0      1031195.00                  65.44  \n",
       "1  8.766501e+09       205777.0      1683039.00                  62.98  \n",
       "2  5.544970e+09       120543.0      1112511.00                  65.94  \n",
       "3  5.464337e+09       100235.0       965070.00                  58.25  \n",
       "4  4.821906e+09        92949.0       857588.00                  59.02  "
      ]
     },
     "execution_count": 7,
     "metadata": {},
     "output_type": "execute_result"
    }
   ],
   "source": [
    "df = pd.read_csv(\"TCS_stock.csv\")\n",
    "df.head()"
   ]
  },
  {
   "cell_type": "code",
   "execution_count": 8,
   "id": "fb3b9f75",
   "metadata": {},
   "outputs": [
    {
     "data": {
      "text/html": [
       "<div>\n",
       "<style scoped>\n",
       "    .dataframe tbody tr th:only-of-type {\n",
       "        vertical-align: middle;\n",
       "    }\n",
       "\n",
       "    .dataframe tbody tr th {\n",
       "        vertical-align: top;\n",
       "    }\n",
       "\n",
       "    .dataframe thead th {\n",
       "        text-align: right;\n",
       "    }\n",
       "</style>\n",
       "<table border=\"1\" class=\"dataframe\">\n",
       "  <thead>\n",
       "    <tr style=\"text-align: right;\">\n",
       "      <th></th>\n",
       "      <th>Symbol</th>\n",
       "      <th>Series</th>\n",
       "      <th>Date</th>\n",
       "      <th>Prev Close</th>\n",
       "      <th>Open Price</th>\n",
       "      <th>High Price</th>\n",
       "      <th>Low Price</th>\n",
       "      <th>Last Price</th>\n",
       "      <th>Close Price</th>\n",
       "      <th>Average Price</th>\n",
       "      <th>Total Traded Quantity</th>\n",
       "      <th>Turnover ₹</th>\n",
       "      <th>No. of Trades</th>\n",
       "      <th>Deliverable Qty</th>\n",
       "      <th>% Dly Qt to Traded Qty</th>\n",
       "    </tr>\n",
       "    <tr>\n",
       "      <th>Date</th>\n",
       "      <th></th>\n",
       "      <th></th>\n",
       "      <th></th>\n",
       "      <th></th>\n",
       "      <th></th>\n",
       "      <th></th>\n",
       "      <th></th>\n",
       "      <th></th>\n",
       "      <th></th>\n",
       "      <th></th>\n",
       "      <th></th>\n",
       "      <th></th>\n",
       "      <th></th>\n",
       "      <th></th>\n",
       "      <th></th>\n",
       "    </tr>\n",
       "  </thead>\n",
       "  <tbody>\n",
       "    <tr>\n",
       "      <th>2023-06-28</th>\n",
       "      <td>TCS</td>\n",
       "      <td>EQ</td>\n",
       "      <td>28-Jun-23</td>\n",
       "      <td>3197.35</td>\n",
       "      <td>3208.0</td>\n",
       "      <td>3230.95</td>\n",
       "      <td>3193.40</td>\n",
       "      <td>3221.0</td>\n",
       "      <td>3215.45</td>\n",
       "      <td>3215.84</td>\n",
       "      <td>1575872.0</td>\n",
       "      <td>5.067756e+09</td>\n",
       "      <td>125121.0</td>\n",
       "      <td>1031195.00</td>\n",
       "      <td>65.44</td>\n",
       "    </tr>\n",
       "    <tr>\n",
       "      <th>2023-06-30</th>\n",
       "      <td>TCS</td>\n",
       "      <td>EQ</td>\n",
       "      <td>30-Jun-23</td>\n",
       "      <td>3215.45</td>\n",
       "      <td>3220.0</td>\n",
       "      <td>3310.00</td>\n",
       "      <td>3214.10</td>\n",
       "      <td>3298.4</td>\n",
       "      <td>3302.25</td>\n",
       "      <td>3280.38</td>\n",
       "      <td>2672406.0</td>\n",
       "      <td>8.766501e+09</td>\n",
       "      <td>205777.0</td>\n",
       "      <td>1683039.00</td>\n",
       "      <td>62.98</td>\n",
       "    </tr>\n",
       "    <tr>\n",
       "      <th>2023-07-03</th>\n",
       "      <td>TCS</td>\n",
       "      <td>EQ</td>\n",
       "      <td>03-Jul-23</td>\n",
       "      <td>3302.25</td>\n",
       "      <td>3314.3</td>\n",
       "      <td>3318.80</td>\n",
       "      <td>3268.75</td>\n",
       "      <td>3274.0</td>\n",
       "      <td>3272.30</td>\n",
       "      <td>3286.37</td>\n",
       "      <td>1687264.0</td>\n",
       "      <td>5.544970e+09</td>\n",
       "      <td>120543.0</td>\n",
       "      <td>1112511.00</td>\n",
       "      <td>65.94</td>\n",
       "    </tr>\n",
       "    <tr>\n",
       "      <th>2023-07-04</th>\n",
       "      <td>TCS</td>\n",
       "      <td>EQ</td>\n",
       "      <td>04-Jul-23</td>\n",
       "      <td>3272.30</td>\n",
       "      <td>3290.0</td>\n",
       "      <td>3315.00</td>\n",
       "      <td>3277.30</td>\n",
       "      <td>3307.0</td>\n",
       "      <td>3308.85</td>\n",
       "      <td>3298.36</td>\n",
       "      <td>1656681.0</td>\n",
       "      <td>5.464337e+09</td>\n",
       "      <td>100235.0</td>\n",
       "      <td>965070.00</td>\n",
       "      <td>58.25</td>\n",
       "    </tr>\n",
       "    <tr>\n",
       "      <th>2023-07-05</th>\n",
       "      <td>TCS</td>\n",
       "      <td>EQ</td>\n",
       "      <td>05-Jul-23</td>\n",
       "      <td>3308.85</td>\n",
       "      <td>3320.0</td>\n",
       "      <td>3329.00</td>\n",
       "      <td>3305.00</td>\n",
       "      <td>3322.0</td>\n",
       "      <td>3319.95</td>\n",
       "      <td>3318.57</td>\n",
       "      <td>1453008.0</td>\n",
       "      <td>4.821906e+09</td>\n",
       "      <td>92949.0</td>\n",
       "      <td>857588.00</td>\n",
       "      <td>59.02</td>\n",
       "    </tr>\n",
       "  </tbody>\n",
       "</table>\n",
       "</div>"
      ],
      "text/plain": [
       "           Symbol Series       Date  Prev Close  Open Price  High Price  \\\n",
       "Date                                                                      \n",
       "2023-06-28    TCS     EQ  28-Jun-23     3197.35      3208.0     3230.95   \n",
       "2023-06-30    TCS     EQ  30-Jun-23     3215.45      3220.0     3310.00   \n",
       "2023-07-03    TCS     EQ  03-Jul-23     3302.25      3314.3     3318.80   \n",
       "2023-07-04    TCS     EQ  04-Jul-23     3272.30      3290.0     3315.00   \n",
       "2023-07-05    TCS     EQ  05-Jul-23     3308.85      3320.0     3329.00   \n",
       "\n",
       "            Low Price  Last Price  Close Price  Average Price   \\\n",
       "Date                                                             \n",
       "2023-06-28    3193.40      3221.0      3215.45         3215.84   \n",
       "2023-06-30    3214.10      3298.4      3302.25         3280.38   \n",
       "2023-07-03    3268.75      3274.0      3272.30         3286.37   \n",
       "2023-07-04    3277.30      3307.0      3308.85         3298.36   \n",
       "2023-07-05    3305.00      3322.0      3319.95         3318.57   \n",
       "\n",
       "            Total Traded Quantity    Turnover ₹  No. of Trades  \\\n",
       "Date                                                             \n",
       "2023-06-28              1575872.0  5.067756e+09       125121.0   \n",
       "2023-06-30              2672406.0  8.766501e+09       205777.0   \n",
       "2023-07-03              1687264.0  5.544970e+09       120543.0   \n",
       "2023-07-04              1656681.0  5.464337e+09       100235.0   \n",
       "2023-07-05              1453008.0  4.821906e+09        92949.0   \n",
       "\n",
       "           Deliverable Qty % Dly Qt to Traded Qty  \n",
       "Date                                               \n",
       "2023-06-28      1031195.00                  65.44  \n",
       "2023-06-30      1683039.00                  62.98  \n",
       "2023-07-03      1112511.00                  65.94  \n",
       "2023-07-04       965070.00                  58.25  \n",
       "2023-07-05       857588.00                  59.02  "
      ]
     },
     "execution_count": 8,
     "metadata": {},
     "output_type": "execute_result"
    }
   ],
   "source": [
    "df.index = pd.to_datetime(df[\"Date\"])\n",
    "df.head()"
   ]
  },
  {
   "cell_type": "code",
   "execution_count": 9,
   "id": "c906a92b",
   "metadata": {},
   "outputs": [
    {
     "data": {
      "text/plain": [
       "<AxesSubplot:xlabel='Date'>"
      ]
     },
     "execution_count": 9,
     "metadata": {},
     "output_type": "execute_result"
    },
    {
     "data": {
      "image/png": "[encoded data removed]",
      "text/plain": [
       "<Figure size 864x432 with 1 Axes>"
      ]
     },
     "metadata": {
      "needs_background": "light"
     },
     "output_type": "display_data"
    }
   ],
   "source": [
    "y = np.log(df[\"Close Price\"])\n",
    "y.plot()"
   ]
  },
  {
   "cell_type": "code",
   "execution_count": 10,
   "id": "dec50db3",
   "metadata": {},
   "outputs": [
    {
     "data": {
      "text/html": [
       "<div>\n",
       "<style scoped>\n",
       "    .dataframe tbody tr th:only-of-type {\n",
       "        vertical-align: middle;\n",
       "    }\n",
       "\n",
       "    .dataframe tbody tr th {\n",
       "        vertical-align: top;\n",
       "    }\n",
       "\n",
       "    .dataframe thead th {\n",
       "        text-align: right;\n",
       "    }\n",
       "</style>\n",
       "<table border=\"1\" class=\"dataframe\">\n",
       "  <thead>\n",
       "    <tr style=\"text-align: right;\">\n",
       "      <th></th>\n",
       "      <th>low</th>\n",
       "      <th>high</th>\n",
       "      <th>first</th>\n",
       "      <th>last</th>\n",
       "      <th>median</th>\n",
       "      <th>mean</th>\n",
       "    </tr>\n",
       "    <tr>\n",
       "      <th>Date</th>\n",
       "      <th></th>\n",
       "      <th></th>\n",
       "      <th></th>\n",
       "      <th></th>\n",
       "      <th></th>\n",
       "      <th></th>\n",
       "    </tr>\n",
       "  </thead>\n",
       "  <tbody>\n",
       "    <tr>\n",
       "      <th>2023-06-30</th>\n",
       "      <td>8.075723</td>\n",
       "      <td>8.102359</td>\n",
       "      <td>8.075723</td>\n",
       "      <td>8.102359</td>\n",
       "      <td>8.089041</td>\n",
       "      <td>8.089041</td>\n",
       "    </tr>\n",
       "    <tr>\n",
       "      <th>2023-09-30</th>\n",
       "      <td>8.089452</td>\n",
       "      <td>8.190396</td>\n",
       "      <td>8.093248</td>\n",
       "      <td>8.168656</td>\n",
       "      <td>8.142703</td>\n",
       "      <td>8.142786</td>\n",
       "    </tr>\n",
       "    <tr>\n",
       "      <th>2023-12-31</th>\n",
       "      <td>8.110923</td>\n",
       "      <td>8.258681</td>\n",
       "      <td>8.164468</td>\n",
       "      <td>8.241018</td>\n",
       "      <td>8.164439</td>\n",
       "      <td>8.171274</td>\n",
       "    </tr>\n",
       "    <tr>\n",
       "      <th>2024-03-31</th>\n",
       "      <td>8.207075</td>\n",
       "      <td>8.347413</td>\n",
       "      <td>8.245673</td>\n",
       "      <td>8.262636</td>\n",
       "      <td>8.287352</td>\n",
       "      <td>8.285020</td>\n",
       "    </tr>\n",
       "    <tr>\n",
       "      <th>2024-06-30</th>\n",
       "      <td>8.208206</td>\n",
       "      <td>8.294874</td>\n",
       "      <td>8.273018</td>\n",
       "      <td>8.277450</td>\n",
       "      <td>8.257716</td>\n",
       "      <td>8.259631</td>\n",
       "    </tr>\n",
       "  </tbody>\n",
       "</table>\n",
       "</div>"
      ],
      "text/plain": [
       "                 low      high     first      last    median      mean\n",
       "Date                                                                  \n",
       "2023-06-30  8.075723  8.102359  8.075723  8.102359  8.089041  8.089041\n",
       "2023-09-30  8.089452  8.190396  8.093248  8.168656  8.142703  8.142786\n",
       "2023-12-31  8.110923  8.258681  8.164468  8.241018  8.164439  8.171274\n",
       "2024-03-31  8.207075  8.347413  8.245673  8.262636  8.287352  8.285020\n",
       "2024-06-30  8.208206  8.294874  8.273018  8.277450  8.257716  8.259631"
      ]
     },
     "execution_count": 10,
     "metadata": {},
     "output_type": "execute_result"
    }
   ],
   "source": [
    "pd.DataFrame(dict(low=y.resample(\"Q\").min(), \n",
    "                  high=y.resample(\"Q\").max(), \n",
    "                  first = y.resample(\"Q\").first(), \n",
    "                  last = y.resample(\"Q\").last(),\n",
    "                  median = y.resample(\"Q\").median(),\n",
    "                  mean = y.resample(\"Q\").mean()\n",
    "                 ))"
   ]
  },
  {
   "cell_type": "code",
   "execution_count": 11,
   "id": "f9e49d5d",
   "metadata": {},
   "outputs": [
    {
     "data": {
      "text/html": [
       "<div>\n",
       "<style scoped>\n",
       "    .dataframe tbody tr th:only-of-type {\n",
       "        vertical-align: middle;\n",
       "    }\n",
       "\n",
       "    .dataframe tbody tr th {\n",
       "        vertical-align: top;\n",
       "    }\n",
       "\n",
       "    .dataframe thead th {\n",
       "        text-align: right;\n",
       "    }\n",
       "</style>\n",
       "<table border=\"1\" class=\"dataframe\">\n",
       "  <thead>\n",
       "    <tr style=\"text-align: right;\">\n",
       "      <th></th>\n",
       "      <th>actual</th>\n",
       "      <th>rolling_mean</th>\n",
       "      <th>ewm</th>\n",
       "    </tr>\n",
       "    <tr>\n",
       "      <th>Date</th>\n",
       "      <th></th>\n",
       "      <th></th>\n",
       "      <th></th>\n",
       "    </tr>\n",
       "  </thead>\n",
       "  <tbody>\n",
       "    <tr>\n",
       "      <th>2023-06-28</th>\n",
       "      <td>8.075723</td>\n",
       "      <td>NaN</td>\n",
       "      <td>8.075723</td>\n",
       "    </tr>\n",
       "    <tr>\n",
       "      <th>2023-06-30</th>\n",
       "      <td>8.102359</td>\n",
       "      <td>NaN</td>\n",
       "      <td>8.093480</td>\n",
       "    </tr>\n",
       "    <tr>\n",
       "      <th>2023-07-03</th>\n",
       "      <td>8.093248</td>\n",
       "      <td>8.090443</td>\n",
       "      <td>8.093348</td>\n",
       "    </tr>\n",
       "    <tr>\n",
       "      <th>2023-07-04</th>\n",
       "      <td>8.104356</td>\n",
       "      <td>8.099988</td>\n",
       "      <td>8.099219</td>\n",
       "    </tr>\n",
       "    <tr>\n",
       "      <th>2023-07-05</th>\n",
       "      <td>8.107705</td>\n",
       "      <td>8.101770</td>\n",
       "      <td>8.103599</td>\n",
       "    </tr>\n",
       "  </tbody>\n",
       "</table>\n",
       "</div>"
      ],
      "text/plain": [
       "              actual  rolling_mean       ewm\n",
       "Date                                        \n",
       "2023-06-28  8.075723           NaN  8.075723\n",
       "2023-06-30  8.102359           NaN  8.093480\n",
       "2023-07-03  8.093248      8.090443  8.093348\n",
       "2023-07-04  8.104356      8.099988  8.099219\n",
       "2023-07-05  8.107705      8.101770  8.103599"
      ]
     },
     "execution_count": 11,
     "metadata": {},
     "output_type": "execute_result"
    }
   ],
   "source": [
    "period = 3\n",
    "y_rolling = pd.DataFrame(dict(actual = y, \n",
    "                              rolling_mean = y.rolling(period).mean(), \n",
    "                              ewm = y.ewm(span = period).mean()\n",
    "                             ))\n",
    "y_rolling.head(5)"
   ]
  },
  {
   "cell_type": "code",
   "execution_count": 12,
   "id": "861d88ab",
   "metadata": {},
   "outputs": [
    {
     "name": "stdout",
     "output_type": "stream",
     "text": [
      "rmse over rolling mean:  0.00922215651463416\n",
      "rmse over ewma:  0.007102334339059548\n"
     ]
    }
   ],
   "source": [
    "rolling_dropped = y_rolling.dropna()\n",
    "print(\"rmse over rolling mean: \", metrics.mean_squared_error(rolling_dropped.actual, rolling_dropped.rolling_mean) ** 0.5)\n",
    "print(\"rmse over ewma: \", metrics.mean_squared_error(rolling_dropped.actual, rolling_dropped[\"ewm\"]) ** 0.5)"
   ]
  },
  {
   "cell_type": "code",
   "execution_count": 13,
   "id": "f3b68d96",
   "metadata": {},
   "outputs": [
    {
     "data": {
      "image/png": "[encoded data removed]",
      "text/plain": [
       "<Figure size 864x432 with 1 Axes>"
      ]
     },
     "metadata": {
      "needs_background": "light"
     },
     "output_type": "display_data"
    }
   ],
   "source": [
    "ax = y_rolling.plot(color={'actual': 'red', 'rolling_mean': 'blue', 'ewm': 'green'})\n",
    "plt.xlabel('Index')\n",
    "plt.ylabel('Log of Close Price')\n",
    "plt.title('Logarithm of Close Price with Rolling Mean and EWM')\n",
    "plt.show()"
   ]
  },
  {
   "cell_type": "code",
   "execution_count": 14,
   "id": "b1ce7f0a",
   "metadata": {},
   "outputs": [
    {
     "name": "stdout",
     "output_type": "stream",
     "text": [
      "ADF Statistic: -1.620235\n",
      "p-value: 0.472606\n"
     ]
    }
   ],
   "source": [
    "from statsmodels.tsa.stattools import adfuller\n",
    "from numpy import log\n",
    "result = adfuller(y.dropna())\n",
    "print('ADF Statistic: %f' % result[0])\n",
    "print('p-value: %f' % result[1])"
   ]
  },
  {
   "cell_type": "code",
   "execution_count": 15,
   "id": "151d2c3f",
   "metadata": {},
   "outputs": [
    {
     "data": {
      "text/html": [
       "<div>\n",
       "<style scoped>\n",
       "    .dataframe tbody tr th:only-of-type {\n",
       "        vertical-align: middle;\n",
       "    }\n",
       "\n",
       "    .dataframe tbody tr th {\n",
       "        vertical-align: top;\n",
       "    }\n",
       "\n",
       "    .dataframe thead th {\n",
       "        text-align: right;\n",
       "    }\n",
       "</style>\n",
       "<table border=\"1\" class=\"dataframe\">\n",
       "  <thead>\n",
       "    <tr style=\"text-align: right;\">\n",
       "      <th></th>\n",
       "      <th>actual</th>\n",
       "      <th>diff1</th>\n",
       "      <th>diff2</th>\n",
       "    </tr>\n",
       "    <tr>\n",
       "      <th>Date</th>\n",
       "      <th></th>\n",
       "      <th></th>\n",
       "      <th></th>\n",
       "    </tr>\n",
       "  </thead>\n",
       "  <tbody>\n",
       "    <tr>\n",
       "      <th>2023-06-28</th>\n",
       "      <td>8.075723</td>\n",
       "      <td>NaN</td>\n",
       "      <td>NaN</td>\n",
       "    </tr>\n",
       "    <tr>\n",
       "      <th>2023-06-30</th>\n",
       "      <td>8.102359</td>\n",
       "      <td>NaN</td>\n",
       "      <td>NaN</td>\n",
       "    </tr>\n",
       "    <tr>\n",
       "      <th>2023-07-03</th>\n",
       "      <td>8.093248</td>\n",
       "      <td>NaN</td>\n",
       "      <td>NaN</td>\n",
       "    </tr>\n",
       "    <tr>\n",
       "      <th>2023-07-04</th>\n",
       "      <td>8.104356</td>\n",
       "      <td>0.028633</td>\n",
       "      <td>NaN</td>\n",
       "    </tr>\n",
       "    <tr>\n",
       "      <th>2023-07-05</th>\n",
       "      <td>8.107705</td>\n",
       "      <td>0.005346</td>\n",
       "      <td>-0.023288</td>\n",
       "    </tr>\n",
       "    <tr>\n",
       "      <th>2023-07-06</th>\n",
       "      <td>8.108593</td>\n",
       "      <td>0.015345</td>\n",
       "      <td>0.009999</td>\n",
       "    </tr>\n",
       "    <tr>\n",
       "      <th>2023-07-07</th>\n",
       "      <td>8.110502</td>\n",
       "      <td>0.006146</td>\n",
       "      <td>-0.009198</td>\n",
       "    </tr>\n",
       "    <tr>\n",
       "      <th>2023-07-10</th>\n",
       "      <td>8.093141</td>\n",
       "      <td>-0.014564</td>\n",
       "      <td>-0.020710</td>\n",
       "    </tr>\n",
       "    <tr>\n",
       "      <th>2023-07-11</th>\n",
       "      <td>8.093279</td>\n",
       "      <td>-0.015314</td>\n",
       "      <td>-0.000751</td>\n",
       "    </tr>\n",
       "    <tr>\n",
       "      <th>2023-07-12</th>\n",
       "      <td>8.089452</td>\n",
       "      <td>-0.021051</td>\n",
       "      <td>-0.005736</td>\n",
       "    </tr>\n",
       "  </tbody>\n",
       "</table>\n",
       "</div>"
      ],
      "text/plain": [
       "              actual     diff1     diff2\n",
       "Date                                    \n",
       "2023-06-28  8.075723       NaN       NaN\n",
       "2023-06-30  8.102359       NaN       NaN\n",
       "2023-07-03  8.093248       NaN       NaN\n",
       "2023-07-04  8.104356  0.028633       NaN\n",
       "2023-07-05  8.107705  0.005346 -0.023288\n",
       "2023-07-06  8.108593  0.015345  0.009999\n",
       "2023-07-07  8.110502  0.006146 -0.009198\n",
       "2023-07-10  8.093141 -0.014564 -0.020710\n",
       "2023-07-11  8.093279 -0.015314 -0.000751\n",
       "2023-07-12  8.089452 -0.021051 -0.005736"
      ]
     },
     "execution_count": 15,
     "metadata": {},
     "output_type": "execute_result"
    }
   ],
   "source": [
    "diff = pd.DataFrame({\"actual\": y, \"diff1\": y.diff(3)}).head(10)\n",
    "diff[\"diff2\"] = diff.diff1.diff(1)\n",
    "diff"
   ]
  },
  {
   "cell_type": "code",
   "execution_count": 16,
   "id": "d57a6d29",
   "metadata": {},
   "outputs": [
    {
     "name": "stdout",
     "output_type": "stream",
     "text": [
      "ADF Statistic: -7.605763\n",
      "p-value: 0.000000\n"
     ]
    }
   ],
   "source": [
    "result = adfuller(y.diff(periods=1).dropna())\n",
    "print('ADF Statistic: %f' % result[0])\n",
    "print('p-value: %f' % result[1])"
   ]
  },
  {
   "cell_type": "code",
   "execution_count": 17,
   "id": "171d53d6",
   "metadata": {},
   "outputs": [
    {
     "data": {
      "text/plain": [
       "<AxesSubplot:xlabel='Date'>"
      ]
     },
     "execution_count": 17,
     "metadata": {},
     "output_type": "execute_result"
    },
    {
     "data": {
      "image/png": "[encoded data removed]",
      "text/plain": [
       "<Figure size 864x432 with 1 Axes>"
      ]
     },
     "metadata": {
      "needs_background": "light"
     },
     "output_type": "display_data"
    }
   ],
   "source": [
    "y.diff(periods=1).plot()"
   ]
  },
  {
   "cell_type": "code",
   "execution_count": 18,
   "id": "3ccc5b51",
   "metadata": {},
   "outputs": [
    {
     "data": {
      "text/plain": [
       "<AxesSubplot:xlabel='Lag', ylabel='Autocorrelation'>"
      ]
     },
     "execution_count": 18,
     "metadata": {},
     "output_type": "execute_result"
    },
    {
     "data": {
      "image/png": "[encoded data removed]",
      "text/plain": [
       "<Figure size 864x432 with 1 Axes>"
      ]
     },
     "metadata": {
      "needs_background": "light"
     },
     "output_type": "display_data"
    }
   ],
   "source": [
    "from pandas.plotting import autocorrelation_plot\n",
    "autocorrelation_plot(y)"
   ]
  },
  {
   "cell_type": "code",
   "execution_count": null,
   "id": "c7ed556a",
   "metadata": {},
   "outputs": [],
   "source": []
  },
  {
   "cell_type": "code",
   "execution_count": 19,
   "id": "fbdb8420",
   "metadata": {},
   "outputs": [
    {
     "name": "stderr",
     "output_type": "stream",
     "text": [
      "C:\\Users\\Ankitha\\anaconda3\\lib\\site-packages\\statsmodels\\tsa\\base\\tsa_model.py:471: ValueWarning: A date index has been provided, but it has no associated frequency information and so will be ignored when e.g. forecasting.\n",
      "  self._init_dates(dates, freq)\n",
      "C:\\Users\\Ankitha\\anaconda3\\lib\\site-packages\\statsmodels\\tsa\\base\\tsa_model.py:471: ValueWarning: A date index has been provided, but it has no associated frequency information and so will be ignored when e.g. forecasting.\n",
      "  self._init_dates(dates, freq)\n",
      "C:\\Users\\Ankitha\\anaconda3\\lib\\site-packages\\statsmodels\\tsa\\base\\tsa_model.py:471: ValueWarning: A date index has been provided, but it has no associated frequency information and so will be ignored when e.g. forecasting.\n",
      "  self._init_dates(dates, freq)\n"
     ]
    },
    {
     "name": "stdout",
     "output_type": "stream",
     "text": [
      "                               SARIMAX Results                                \n",
      "==============================================================================\n",
      "Dep. Variable:            Close Price   No. Observations:                  250\n",
      "Model:                 ARIMA(5, 1, 0)   Log Likelihood                 742.872\n",
      "Date:                Sun, 30 Jun 2024   AIC                          -1473.743\n",
      "Time:                        14:17:17   BIC                          -1452.639\n",
      "Sample:                             0   HQIC                         -1465.248\n",
      "                                - 250                                         \n",
      "Covariance Type:                  opg                                         \n",
      "==============================================================================\n",
      "                 coef    std err          z      P>|z|      [0.025      0.975]\n",
      "------------------------------------------------------------------------------\n",
      "ar.L1          0.0479      0.073      0.656      0.512      -0.095       0.191\n",
      "ar.L2         -0.0439      0.065     -0.673      0.501      -0.172       0.084\n",
      "ar.L3          0.0292      0.077      0.379      0.705      -0.122       0.180\n",
      "ar.L4         -0.0188      0.075     -0.251      0.802      -0.166       0.128\n",
      "ar.L5          0.0577      0.074      0.779      0.436      -0.088       0.203\n",
      "sigma2         0.0001    1.1e-05     13.593      0.000       0.000       0.000\n",
      "===================================================================================\n",
      "Ljung-Box (L1) (Q):                   0.00   Jarque-Bera (JB):                62.14\n",
      "Prob(Q):                              1.00   Prob(JB):                         0.00\n",
      "Heteroskedasticity (H):               1.06   Skew:                             0.57\n",
      "Prob(H) (two-sided):                  0.78   Kurtosis:                         5.16\n",
      "===================================================================================\n",
      "\n",
      "Warnings:\n",
      "[1] Covariance matrix calculated using the outer product of gradients (complex-step).\n"
     ]
    },
    {
     "data": {
      "image/png": "[encoded data removed]",
      "text/plain": [
       "<Figure size 864x432 with 1 Axes>"
      ]
     },
     "metadata": {
      "needs_background": "light"
     },
     "output_type": "display_data"
    },
    {
     "data": {
      "image/png": "[encoded data removed]",
      "text/plain": [
       "<Figure size 864x432 with 1 Axes>"
      ]
     },
     "metadata": {
      "needs_background": "light"
     },
     "output_type": "display_data"
    },
    {
     "name": "stdout",
     "output_type": "stream",
     "text": [
      "                0\n",
      "count  250.000000\n",
      "mean     0.033061\n",
      "std      0.510852\n",
      "min     -0.043796\n",
      "25%     -0.007014\n",
      "50%      0.000217\n",
      "75%      0.007167\n",
      "max      8.075723\n"
     ]
    }
   ],
   "source": [
    "y = np.log(df[\"Close Price\"])\n",
    "\n",
    "from statsmodels.tsa.arima.model import ARIMA\n",
    "# Fit ARIMA model\n",
    "model = ARIMA(y, order=(5, 1, 0))  # p, d, q\n",
    "model_fit = model.fit()\n",
    "\n",
    "# Print model summary\n",
    "print(model_fit.summary())\n",
    "\n",
    "# Plot residual errors\n",
    "residuals = pd.DataFrame(model_fit.resid)\n",
    "\n",
    "# Plotting residuals\n",
    "ax1 = residuals.plot(title='Residuals')\n",
    "ax1.set_ylim(-0.06, 0.06)\n",
    "plt.show()\n",
    "\n",
    "residuals.plot(kind='kde', title='Density of Residuals')\n",
    "plt.show()\n",
    "\n",
    "print(residuals.describe())\n"
   ]
  },
  {
   "cell_type": "code",
   "execution_count": 20,
   "id": "37ab4e32",
   "metadata": {},
   "outputs": [
    {
     "data": {
      "text/html": [
       "<table class=\"simpletable\">\n",
       "<caption>SARIMAX Results</caption>\n",
       "<tr>\n",
       "  <th>Dep. Variable:</th>      <td>Close Price</td>   <th>  No. Observations:  </th>    <td>250</td>   \n",
       "</tr>\n",
       "<tr>\n",
       "  <th>Model:</th>            <td>ARIMA(5, 1, 0)</td>  <th>  Log Likelihood     </th>  <td>742.872</td> \n",
       "</tr>\n",
       "<tr>\n",
       "  <th>Date:</th>            <td>Sun, 30 Jun 2024</td> <th>  AIC                </th> <td>-1473.743</td>\n",
       "</tr>\n",
       "<tr>\n",
       "  <th>Time:</th>                <td>14:17:18</td>     <th>  BIC                </th> <td>-1452.639</td>\n",
       "</tr>\n",
       "<tr>\n",
       "  <th>Sample:</th>                  <td>0</td>        <th>  HQIC               </th> <td>-1465.248</td>\n",
       "</tr>\n",
       "<tr>\n",
       "  <th></th>                      <td> - 250</td>      <th>                     </th>     <td> </td>    \n",
       "</tr>\n",
       "<tr>\n",
       "  <th>Covariance Type:</th>        <td>opg</td>       <th>                     </th>     <td> </td>    \n",
       "</tr>\n",
       "</table>\n",
       "<table class=\"simpletable\">\n",
       "<tr>\n",
       "     <td></td>       <th>coef</th>     <th>std err</th>      <th>z</th>      <th>P>|z|</th>  <th>[0.025</th>    <th>0.975]</th>  \n",
       "</tr>\n",
       "<tr>\n",
       "  <th>ar.L1</th>  <td>    0.0479</td> <td>    0.073</td> <td>    0.656</td> <td> 0.512</td> <td>   -0.095</td> <td>    0.191</td>\n",
       "</tr>\n",
       "<tr>\n",
       "  <th>ar.L2</th>  <td>   -0.0439</td> <td>    0.065</td> <td>   -0.673</td> <td> 0.501</td> <td>   -0.172</td> <td>    0.084</td>\n",
       "</tr>\n",
       "<tr>\n",
       "  <th>ar.L3</th>  <td>    0.0292</td> <td>    0.077</td> <td>    0.379</td> <td> 0.705</td> <td>   -0.122</td> <td>    0.180</td>\n",
       "</tr>\n",
       "<tr>\n",
       "  <th>ar.L4</th>  <td>   -0.0188</td> <td>    0.075</td> <td>   -0.251</td> <td> 0.802</td> <td>   -0.166</td> <td>    0.128</td>\n",
       "</tr>\n",
       "<tr>\n",
       "  <th>ar.L5</th>  <td>    0.0577</td> <td>    0.074</td> <td>    0.779</td> <td> 0.436</td> <td>   -0.088</td> <td>    0.203</td>\n",
       "</tr>\n",
       "<tr>\n",
       "  <th>sigma2</th> <td>    0.0001</td> <td>  1.1e-05</td> <td>   13.593</td> <td> 0.000</td> <td>    0.000</td> <td>    0.000</td>\n",
       "</tr>\n",
       "</table>\n",
       "<table class=\"simpletable\">\n",
       "<tr>\n",
       "  <th>Ljung-Box (L1) (Q):</th>     <td>0.00</td> <th>  Jarque-Bera (JB):  </th> <td>62.14</td>\n",
       "</tr>\n",
       "<tr>\n",
       "  <th>Prob(Q):</th>                <td>1.00</td> <th>  Prob(JB):          </th> <td>0.00</td> \n",
       "</tr>\n",
       "<tr>\n",
       "  <th>Heteroskedasticity (H):</th> <td>1.06</td> <th>  Skew:              </th> <td>0.57</td> \n",
       "</tr>\n",
       "<tr>\n",
       "  <th>Prob(H) (two-sided):</th>    <td>0.78</td> <th>  Kurtosis:          </th> <td>5.16</td> \n",
       "</tr>\n",
       "</table><br/><br/>Warnings:<br/>[1] Covariance matrix calculated using the outer product of gradients (complex-step)."
      ],
      "text/plain": [
       "<class 'statsmodels.iolib.summary.Summary'>\n",
       "\"\"\"\n",
       "                               SARIMAX Results                                \n",
       "==============================================================================\n",
       "Dep. Variable:            Close Price   No. Observations:                  250\n",
       "Model:                 ARIMA(5, 1, 0)   Log Likelihood                 742.872\n",
       "Date:                Sun, 30 Jun 2024   AIC                          -1473.743\n",
       "Time:                        14:17:18   BIC                          -1452.639\n",
       "Sample:                             0   HQIC                         -1465.248\n",
       "                                - 250                                         \n",
       "Covariance Type:                  opg                                         \n",
       "==============================================================================\n",
       "                 coef    std err          z      P>|z|      [0.025      0.975]\n",
       "------------------------------------------------------------------------------\n",
       "ar.L1          0.0479      0.073      0.656      0.512      -0.095       0.191\n",
       "ar.L2         -0.0439      0.065     -0.673      0.501      -0.172       0.084\n",
       "ar.L3          0.0292      0.077      0.379      0.705      -0.122       0.180\n",
       "ar.L4         -0.0188      0.075     -0.251      0.802      -0.166       0.128\n",
       "ar.L5          0.0577      0.074      0.779      0.436      -0.088       0.203\n",
       "sigma2         0.0001    1.1e-05     13.593      0.000       0.000       0.000\n",
       "===================================================================================\n",
       "Ljung-Box (L1) (Q):                   0.00   Jarque-Bera (JB):                62.14\n",
       "Prob(Q):                              1.00   Prob(JB):                         0.00\n",
       "Heteroskedasticity (H):               1.06   Skew:                             0.57\n",
       "Prob(H) (two-sided):                  0.78   Kurtosis:                         5.16\n",
       "===================================================================================\n",
       "\n",
       "Warnings:\n",
       "[1] Covariance matrix calculated using the outer product of gradients (complex-step).\n",
       "\"\"\""
      ]
     },
     "execution_count": 20,
     "metadata": {},
     "output_type": "execute_result"
    }
   ],
   "source": [
    "\t\n",
    "model_fit.summary()"
   ]
  },
  {
   "cell_type": "code",
   "execution_count": 21,
   "id": "0883d898",
   "metadata": {},
   "outputs": [
    {
     "data": {
      "image/png": "[encoded data removed]",
      "text/plain": [
       "<Figure size 864x432 with 1 Axes>"
      ]
     },
     "metadata": {
      "needs_background": "light"
     },
     "output_type": "display_data"
    }
   ],
   "source": [
    "\t\n",
    "model = ARIMA(y.values, order=(5,1,0))\n",
    "model_fit = model.fit()\n",
    "\n",
    "# Get forecast\n",
    "forecast_result = model_fit.forecast(steps=150)\n",
    "\n",
    "# Extract predictions\n",
    "predictions = forecast_result\n",
    "\n",
    "# Extract confidence intervals\n",
    "conf_interval = model_fit.get_forecast(steps=150).conf_int()\n",
    "\n",
    "# Calculate forecast errors (you might need to adjust this based on your specific needs)\n",
    "# Here, we're calculating the width of the confidence interval as a simple error measure\n",
    "errors = (conf_interval[:, 1] - conf_interval[:, 0]) / 2\n",
    "\n",
    "# Now you have separate variables for predictions, errors, and conf_interval\n",
    "\n",
    "# Plot the results\n",
    "plt.figure(figsize=(12, 6))\n",
    "plt.plot(predictions, label='Forecast')\n",
    "plt.fill_between(range(len(predictions)), \n",
    "                 conf_interval[:, 0], \n",
    "                 conf_interval[:, 1], \n",
    "                 color='pink', alpha=0.3, label='95% Confidence Interval')\n",
    "\n",
    "plt.title('ARIMA Forecast with Confidence Intervals')\n",
    "plt.xlabel('Steps')\n",
    "plt.ylabel('Value')\n",
    "plt.legend()\n",
    "plt.show()"
   ]
  },
  {
   "cell_type": "code",
   "execution_count": 22,
   "id": "3ac69825",
   "metadata": {},
   "outputs": [
    {
     "data": {
      "text/plain": [
       "array([8.27870692, 8.27800176, 8.27874098, 8.2787277 , 8.27981059,\n",
       "       8.27997039, 8.27987554, 8.27993849, 8.27992924, 8.27998276])"
      ]
     },
     "execution_count": 22,
     "metadata": {},
     "output_type": "execute_result"
    }
   ],
   "source": [
    "\t\n",
    "predictions[:10]"
   ]
  },
  {
   "cell_type": "code",
   "execution_count": 23,
   "id": "c57390c7",
   "metadata": {},
   "outputs": [
    {
     "data": {
      "text/plain": [
       "array([0.02400379, 0.03476915, 0.04233617, 0.04904346, 0.05478358,\n",
       "       0.06051406, 0.06581741, 0.07067777, 0.07524701, 0.07954445])"
      ]
     },
     "execution_count": 23,
     "metadata": {},
     "output_type": "execute_result"
    }
   ],
   "source": [
    "errors[:10]"
   ]
  },
  {
   "cell_type": "code",
   "execution_count": 24,
   "id": "4161eb69",
   "metadata": {},
   "outputs": [
    {
     "data": {
      "text/plain": [
       "array([[8.25470313, 8.30271071],\n",
       "       [8.2432326 , 8.31277091],\n",
       "       [8.23640481, 8.32107715],\n",
       "       [8.22968424, 8.32777115],\n",
       "       [8.225027  , 8.33459417],\n",
       "       [8.21945633, 8.34048445],\n",
       "       [8.21405813, 8.34569294],\n",
       "       [8.20926072, 8.35061626],\n",
       "       [8.20468223, 8.35517624],\n",
       "       [8.20043831, 8.3595272 ]])"
      ]
     },
     "execution_count": 24,
     "metadata": {},
     "output_type": "execute_result"
    }
   ],
   "source": [
    "conf_interval[:10]"
   ]
  },
  {
   "cell_type": "code",
   "execution_count": 25,
   "id": "98f71255",
   "metadata": {},
   "outputs": [
    {
     "data": {
      "text/plain": [
       "array([[8.0757226 ],\n",
       "       [8.10235933],\n",
       "       [8.09324838],\n",
       "       [8.10435598],\n",
       "       [8.107705  ],\n",
       "       [8.10859317],\n",
       "       [8.11050233],\n",
       "       [8.09314142],\n",
       "       [8.09327894],\n",
       "       [8.0894518 ],\n",
       "       [8.11389074],\n",
       "       [8.16469523],\n",
       "       [8.16469523],\n",
       "       [8.158144  ],\n",
       "       [8.15961784],\n",
       "       [8.15192428],\n",
       "       [8.14997717],\n",
       "       [8.12216345],\n",
       "       [8.1299854 ],\n",
       "       [8.13128068],\n",
       "       [8.1280836 ],\n",
       "       [8.13061853],\n",
       "       [8.11832627],\n",
       "       [8.13781972],\n",
       "       [8.14672354],\n",
       "       [8.14341569],\n",
       "       [8.131516  ],\n",
       "       [8.14425819],\n",
       "       [8.15595069],\n",
       "       [8.15208277],\n",
       "       [8.14974615],\n",
       "       [8.14383703],\n",
       "       [8.14578162],\n",
       "       [8.14608603],\n",
       "       [8.14856133],\n",
       "       [8.14199052],\n",
       "       [8.12180712],\n",
       "       [8.13201589],\n",
       "       [8.12626688],\n",
       "       [8.13101587],\n",
       "       [8.12792126],\n",
       "       [8.12601553],\n",
       "       [8.12431355],\n",
       "       [8.12449129],\n",
       "       [8.1288654 ],\n",
       "       [8.11874342],\n",
       "       [8.12539427],\n",
       "       [8.13695714],\n",
       "       [8.14012602],\n",
       "       [8.14028639],\n",
       "       [8.14765009],\n",
       "       [8.14377892],\n",
       "       [8.15497434],\n",
       "       [8.18334152],\n",
       "       [8.17971845],\n",
       "       [8.17752987],\n",
       "       [8.18821679],\n",
       "       [8.190396  ],\n",
       "       [8.19036827],\n",
       "       [8.18459743],\n",
       "       [8.1897025 ],\n",
       "       [8.18232167],\n",
       "       [8.18470899],\n",
       "       [8.18571248],\n",
       "       [8.17096351],\n",
       "       [8.16865647],\n",
       "       [8.16446758],\n",
       "       [8.17124621],\n",
       "       [8.18572641],\n",
       "       [8.19461597],\n",
       "       [8.19928556],\n",
       "       [8.19668485],\n",
       "       [8.19143535],\n",
       "       [8.17260209],\n",
       "       [8.18055894],\n",
       "       [8.16736618],\n",
       "       [8.16253051],\n",
       "       [8.15686874],\n",
       "       [8.14776585],\n",
       "       [8.15895989],\n",
       "       [8.13451156],\n",
       "       [8.1286147 ],\n",
       "       [8.11275256],\n",
       "       [8.11699917],\n",
       "       [8.1252019 ],\n",
       "       [8.12229703],\n",
       "       [8.11092276],\n",
       "       [8.11972601],\n",
       "       [8.11698425],\n",
       "       [8.12570495],\n",
       "       [8.12280155],\n",
       "       [8.12608946],\n",
       "       [8.11595414],\n",
       "       [8.11176308],\n",
       "       [8.11889236],\n",
       "       [8.11119294],\n",
       "       [8.13279462],\n",
       "       [8.15990377],\n",
       "       [8.161218  ],\n",
       "       [8.16610263],\n",
       "       [8.16342829],\n",
       "       [8.16909564],\n",
       "       [8.16287262],\n",
       "       [8.14818537],\n",
       "       [8.1519531 ],\n",
       "       [8.16443912],\n",
       "       [8.1569691 ],\n",
       "       [8.16384129],\n",
       "       [8.16406908],\n",
       "       [8.16950631],\n",
       "       [8.18982737],\n",
       "       [8.19281947],\n",
       "       [8.19607842],\n",
       "       [8.20053535],\n",
       "       [8.20851898],\n",
       "       [8.18689585],\n",
       "       [8.20719734],\n",
       "       [8.2586815 ],\n",
       "       [8.25821519],\n",
       "       [8.24701044],\n",
       "       [8.23749252],\n",
       "       [8.23946145],\n",
       "       [8.24905227],\n",
       "       [8.24158461],\n",
       "       [8.24569938],\n",
       "       [8.24273003],\n",
       "       [8.24101799],\n",
       "       [8.24567314],\n",
       "       [8.23832549],\n",
       "       [8.21385588],\n",
       "       [8.20707463],\n",
       "       [8.22627924],\n",
       "       [8.21020597],\n",
       "       [8.21335464],\n",
       "       [8.21960892],\n",
       "       [8.22565034],\n",
       "       [8.26431182],\n",
       "       [8.26970572],\n",
       "       [8.25875919],\n",
       "       [8.2647753 ],\n",
       "       [8.26939828],\n",
       "       [8.27970981],\n",
       "       [8.25859084],\n",
       "       [8.25796899],\n",
       "       [8.25369629],\n",
       "       [8.25369629],\n",
       "       [8.24546321],\n",
       "       [8.24301947],\n",
       "       [8.24290107],\n",
       "       [8.24694493],\n",
       "       [8.25690577],\n",
       "       [8.28558895],\n",
       "       [8.28735226],\n",
       "       [8.32748442],\n",
       "       [8.31468525],\n",
       "       [8.32702493],\n",
       "       [8.32692817],\n",
       "       [8.32377833],\n",
       "       [8.33074312],\n",
       "       [8.31876664],\n",
       "       [8.31952244],\n",
       "       [8.32562098],\n",
       "       [8.31966865],\n",
       "       [8.30168293],\n",
       "       [8.29192238],\n",
       "       [8.31559095],\n",
       "       [8.30699054],\n",
       "       [8.29431211],\n",
       "       [8.31981485],\n",
       "       [8.32335356],\n",
       "       [8.31754642],\n",
       "       [8.31736325],\n",
       "       [8.32047246],\n",
       "       [8.31402382],\n",
       "       [8.29707007],\n",
       "       [8.30999681],\n",
       "       [8.32083762],\n",
       "       [8.32417867],\n",
       "       [8.34099286],\n",
       "       [8.33062262],\n",
       "       [8.34464769],\n",
       "       [8.34741267],\n",
       "       [8.33146584],\n",
       "       [8.28835848],\n",
       "       [8.28674805],\n",
       "       [8.28726417],\n",
       "       [8.27152281],\n",
       "       [8.2629459 ],\n",
       "       [8.25346199],\n",
       "       [8.26263637],\n",
       "       [8.27301751],\n",
       "       [8.26456933],\n",
       "       [8.28078708],\n",
       "       [8.2948743 ],\n",
       "       [8.28884864],\n",
       "       [8.28716348],\n",
       "       [8.28059706],\n",
       "       [8.29020476],\n",
       "       [8.29439958],\n",
       "       [8.27924052],\n",
       "       [8.26173304],\n",
       "       [8.25894046],\n",
       "       [8.24962742],\n",
       "       [8.25961346],\n",
       "       [8.26222352],\n",
       "       [8.2508942 ],\n",
       "       [8.25639969],\n",
       "       [8.24835904],\n",
       "       [8.26106146],\n",
       "       [8.24817584],\n",
       "       [8.25927702],\n",
       "       [8.25411267],\n",
       "       [8.27411475],\n",
       "       [8.28877324],\n",
       "       [8.28827047],\n",
       "       [8.28404981],\n",
       "       [8.26716651],\n",
       "       [8.28091374],\n",
       "       [8.26903948],\n",
       "       [8.26369352],\n",
       "       [8.26897539],\n",
       "       [8.25169001],\n",
       "       [8.25620498],\n",
       "       [8.24805806],\n",
       "       [8.25114214],\n",
       "       [8.26705093],\n",
       "       [8.25569855],\n",
       "       [8.2550619 ],\n",
       "       [8.2532016 ],\n",
       "       [8.24371641],\n",
       "       [8.22579757],\n",
       "       [8.20820576],\n",
       "       [8.21685807],\n",
       "       [8.22013396],\n",
       "       [8.228564  ],\n",
       "       [8.25072452],\n",
       "       [8.26717935],\n",
       "       [8.25808562],\n",
       "       [8.25637373],\n",
       "       [8.2510508 ],\n",
       "       [8.26311351],\n",
       "       [8.25115519],\n",
       "       [8.24672216],\n",
       "       [8.24320361],\n",
       "       [8.23939544],\n",
       "       [8.2455813 ],\n",
       "       [8.24716765],\n",
       "       [8.25282392],\n",
       "       [8.25734675],\n",
       "       [8.27745013]])"
      ]
     },
     "execution_count": 25,
     "metadata": {},
     "output_type": "execute_result"
    }
   ],
   "source": [
    "model.endog"
   ]
  },
  {
   "cell_type": "code",
   "execution_count": 26,
   "id": "94bc8ad8",
   "metadata": {},
   "outputs": [
    {
     "data": {
      "text/plain": [
       "array([8.32575435, 8.3461493 , 8.36171988, 8.37485287, 8.38718641,\n",
       "       8.39857794, 8.40887765, 8.41846691, 8.42741337, 8.43588987])"
      ]
     },
     "execution_count": 26,
     "metadata": {},
     "output_type": "execute_result"
    }
   ],
   "source": [
    "(predictions + 1.96 * errors)[:10]"
   ]
  },
  {
   "cell_type": "code",
   "execution_count": 27,
   "id": "bf798c36",
   "metadata": {},
   "outputs": [
    {
     "data": {
      "text/plain": [
       "array([8.23165949, 8.20985422, 8.19576208, 8.18260252, 8.17243476,\n",
       "       8.16136283, 8.15087342, 8.14141006, 8.13244511, 8.12407564])"
      ]
     },
     "execution_count": 27,
     "metadata": {},
     "output_type": "execute_result"
    }
   ],
   "source": [
    "(predictions - 1.96 * errors)[:10]"
   ]
  },
  {
   "cell_type": "code",
   "execution_count": 28,
   "id": "9255b64f",
   "metadata": {},
   "outputs": [
    {
     "name": "stderr",
     "output_type": "stream",
     "text": [
      "C:\\Users\\Ankitha\\AppData\\Local\\Temp\\ipykernel_4896\\3527287690.py:15: DeprecationWarning: Conversion of an array with ndim > 0 to a scalar is deprecated, and will error in future. Ensure you extract a single element from your array before performing this operation. (Deprecated NumPy 1.25.)\n",
      "  print('predicted=%f, actual=%f' % (yhat, obs))\n"
     ]
    },
    {
     "name": "stdout",
     "output_type": "stream",
     "text": [
      "predicted=8.296500, actual=8.309997\n",
      "predicted=8.311486, actual=8.320838\n",
      "predicted=8.319670, actual=8.324179\n"
     ]
    },
    {
     "name": "stderr",
     "output_type": "stream",
     "text": [
      "C:\\Users\\Ankitha\\anaconda3\\lib\\site-packages\\statsmodels\\base\\model.py:604: ConvergenceWarning: Maximum Likelihood optimization failed to converge. Check mle_retvals\n",
      "  warnings.warn(\"Maximum Likelihood optimization failed to \"\n"
     ]
    },
    {
     "name": "stdout",
     "output_type": "stream",
     "text": [
      "predicted=8.323706, actual=8.340993\n",
      "predicted=8.340663, actual=8.330623\n",
      "predicted=8.329699, actual=8.344648\n",
      "predicted=8.347514, actual=8.347413\n",
      "predicted=8.345951, actual=8.331466\n"
     ]
    },
    {
     "name": "stderr",
     "output_type": "stream",
     "text": [
      "C:\\Users\\Ankitha\\anaconda3\\lib\\site-packages\\statsmodels\\base\\model.py:604: ConvergenceWarning: Maximum Likelihood optimization failed to converge. Check mle_retvals\n",
      "  warnings.warn(\"Maximum Likelihood optimization failed to \"\n"
     ]
    },
    {
     "name": "stdout",
     "output_type": "stream",
     "text": [
      "predicted=8.333138, actual=8.288358\n",
      "predicted=8.286549, actual=8.286748\n",
      "predicted=8.290288, actual=8.287264\n",
      "predicted=8.286264, actual=8.271523\n",
      "predicted=8.269874, actual=8.262946\n",
      "predicted=8.261325, actual=8.253462\n",
      "predicted=8.252488, actual=8.262636\n",
      "predicted=8.263392, actual=8.273018\n",
      "predicted=8.271481, actual=8.264569\n",
      "predicted=8.263090, actual=8.280787\n",
      "predicted=8.282279, actual=8.294874\n",
      "predicted=8.294544, actual=8.288849\n",
      "predicted=8.288967, actual=8.287163\n",
      "predicted=8.287909, actual=8.280597\n",
      "predicted=8.280872, actual=8.290205\n"
     ]
    },
    {
     "name": "stderr",
     "output_type": "stream",
     "text": [
      "C:\\Users\\Ankitha\\anaconda3\\lib\\site-packages\\statsmodels\\base\\model.py:604: ConvergenceWarning: Maximum Likelihood optimization failed to converge. Check mle_retvals\n",
      "  warnings.warn(\"Maximum Likelihood optimization failed to \"\n"
     ]
    },
    {
     "name": "stdout",
     "output_type": "stream",
     "text": [
      "predicted=8.292114, actual=8.294400\n"
     ]
    },
    {
     "name": "stderr",
     "output_type": "stream",
     "text": [
      "C:\\Users\\Ankitha\\anaconda3\\lib\\site-packages\\statsmodels\\base\\model.py:604: ConvergenceWarning: Maximum Likelihood optimization failed to converge. Check mle_retvals\n",
      "  warnings.warn(\"Maximum Likelihood optimization failed to \"\n"
     ]
    },
    {
     "name": "stdout",
     "output_type": "stream",
     "text": [
      "predicted=8.293112, actual=8.279241\n",
      "predicted=8.278456, actual=8.261733\n",
      "predicted=8.261706, actual=8.258940\n",
      "predicted=8.260113, actual=8.249627\n",
      "predicted=8.248445, actual=8.259613\n"
     ]
    },
    {
     "name": "stderr",
     "output_type": "stream",
     "text": [
      "C:\\Users\\Ankitha\\anaconda3\\lib\\site-packages\\statsmodels\\base\\model.py:604: ConvergenceWarning: Maximum Likelihood optimization failed to converge. Check mle_retvals\n",
      "  warnings.warn(\"Maximum Likelihood optimization failed to \"\n"
     ]
    },
    {
     "name": "stdout",
     "output_type": "stream",
     "text": [
      "predicted=8.259944, actual=8.262224\n",
      "predicted=8.259928, actual=8.250894\n",
      "predicted=8.250340, actual=8.256400\n",
      "predicted=8.257133, actual=8.248359\n",
      "predicted=8.247463, actual=8.261061\n"
     ]
    },
    {
     "name": "stderr",
     "output_type": "stream",
     "text": [
      "C:\\Users\\Ankitha\\anaconda3\\lib\\site-packages\\statsmodels\\base\\model.py:604: ConvergenceWarning: Maximum Likelihood optimization failed to converge. Check mle_retvals\n",
      "  warnings.warn(\"Maximum Likelihood optimization failed to \"\n"
     ]
    },
    {
     "name": "stdout",
     "output_type": "stream",
     "text": [
      "predicted=8.263031, actual=8.248176\n",
      "predicted=8.245299, actual=8.259277\n",
      "predicted=8.261591, actual=8.254113\n",
      "predicted=8.252154, actual=8.274115\n",
      "predicted=8.276089, actual=8.288773\n",
      "predicted=8.287307, actual=8.288270\n",
      "predicted=8.288792, actual=8.284050\n",
      "predicted=8.284203, actual=8.267167\n",
      "predicted=8.267931, actual=8.280914\n",
      "predicted=8.283212, actual=8.269039\n",
      "predicted=8.267395, actual=8.263694\n",
      "predicted=8.264075, actual=8.268975\n"
     ]
    },
    {
     "name": "stderr",
     "output_type": "stream",
     "text": [
      "C:\\Users\\Ankitha\\anaconda3\\lib\\site-packages\\statsmodels\\base\\model.py:604: ConvergenceWarning: Maximum Likelihood optimization failed to converge. Check mle_retvals\n",
      "  warnings.warn(\"Maximum Likelihood optimization failed to \"\n"
     ]
    },
    {
     "name": "stdout",
     "output_type": "stream",
     "text": [
      "predicted=8.268002, actual=8.251690\n",
      "predicted=8.251730, actual=8.256205\n",
      "predicted=8.256354, actual=8.248058\n",
      "predicted=8.246547, actual=8.251142\n",
      "predicted=8.252253, actual=8.267051\n"
     ]
    },
    {
     "name": "stderr",
     "output_type": "stream",
     "text": [
      "C:\\Users\\Ankitha\\anaconda3\\lib\\site-packages\\statsmodels\\base\\model.py:604: ConvergenceWarning: Maximum Likelihood optimization failed to converge. Check mle_retvals\n",
      "  warnings.warn(\"Maximum Likelihood optimization failed to \"\n"
     ]
    },
    {
     "name": "stdout",
     "output_type": "stream",
     "text": [
      "predicted=8.265605, actual=8.255699\n",
      "predicted=8.255144, actual=8.255062\n",
      "predicted=8.255480, actual=8.253202\n",
      "predicted=8.252866, actual=8.243716\n",
      "predicted=8.245135, actual=8.225798\n",
      "predicted=8.224842, actual=8.208206\n",
      "predicted=8.207948, actual=8.216858\n",
      "predicted=8.217377, actual=8.220134\n",
      "predicted=8.218545, actual=8.228564\n"
     ]
    },
    {
     "name": "stderr",
     "output_type": "stream",
     "text": [
      "C:\\Users\\Ankitha\\anaconda3\\lib\\site-packages\\statsmodels\\base\\model.py:604: ConvergenceWarning: Maximum Likelihood optimization failed to converge. Check mle_retvals\n",
      "  warnings.warn(\"Maximum Likelihood optimization failed to \"\n"
     ]
    },
    {
     "name": "stdout",
     "output_type": "stream",
     "text": [
      "predicted=8.227701, actual=8.250725\n"
     ]
    },
    {
     "name": "stderr",
     "output_type": "stream",
     "text": [
      "C:\\Users\\Ankitha\\anaconda3\\lib\\site-packages\\statsmodels\\base\\model.py:604: ConvergenceWarning: Maximum Likelihood optimization failed to converge. Check mle_retvals\n",
      "  warnings.warn(\"Maximum Likelihood optimization failed to \"\n"
     ]
    },
    {
     "name": "stdout",
     "output_type": "stream",
     "text": [
      "predicted=8.249900, actual=8.267179\n",
      "predicted=8.267829, actual=8.258086\n"
     ]
    },
    {
     "name": "stderr",
     "output_type": "stream",
     "text": [
      "C:\\Users\\Ankitha\\anaconda3\\lib\\site-packages\\statsmodels\\base\\model.py:604: ConvergenceWarning: Maximum Likelihood optimization failed to converge. Check mle_retvals\n",
      "  warnings.warn(\"Maximum Likelihood optimization failed to \"\n"
     ]
    },
    {
     "name": "stdout",
     "output_type": "stream",
     "text": [
      "predicted=8.257565, actual=8.256374\n",
      "predicted=8.257297, actual=8.251051\n",
      "predicted=8.251406, actual=8.263114\n"
     ]
    },
    {
     "name": "stderr",
     "output_type": "stream",
     "text": [
      "C:\\Users\\Ankitha\\anaconda3\\lib\\site-packages\\statsmodels\\base\\model.py:604: ConvergenceWarning: Maximum Likelihood optimization failed to converge. Check mle_retvals\n",
      "  warnings.warn(\"Maximum Likelihood optimization failed to \"\n"
     ]
    },
    {
     "name": "stdout",
     "output_type": "stream",
     "text": [
      "predicted=8.265198, actual=8.251155\n",
      "predicted=8.249401, actual=8.246722\n"
     ]
    },
    {
     "name": "stderr",
     "output_type": "stream",
     "text": [
      "C:\\Users\\Ankitha\\anaconda3\\lib\\site-packages\\statsmodels\\base\\model.py:604: ConvergenceWarning: Maximum Likelihood optimization failed to converge. Check mle_retvals\n",
      "  warnings.warn(\"Maximum Likelihood optimization failed to \"\n"
     ]
    },
    {
     "name": "stdout",
     "output_type": "stream",
     "text": [
      "predicted=8.247474, actual=8.243204\n",
      "predicted=8.242386, actual=8.239395\n",
      "predicted=8.240217, actual=8.245581\n",
      "predicted=8.245295, actual=8.247168\n",
      "predicted=8.246635, actual=8.252824\n",
      "predicted=8.253046, actual=8.257347\n",
      "predicted=8.256965, actual=8.277450\n",
      "Test RMSE: 0.012\n"
     ]
    },
    {
     "data": {
      "image/png": "[encoded data removed]",
      "text/plain": [
       "<Figure size 864x432 with 1 Axes>"
      ]
     },
     "metadata": {
      "needs_background": "light"
     },
     "output_type": "display_data"
    }
   ],
   "source": [
    "x = y.values\n",
    "train_size = int(len(x) * 0.7)\n",
    "train, test = x[0:train_size], x[train_size:]\n",
    "history = [x for x in train]\n",
    "predictions = []\n",
    "\n",
    "for t in range(len(test)):\n",
    "    model = ARIMA(history, order=(5,1,0))\n",
    "    model_fit = model.fit()\n",
    "    output = model_fit.forecast()\n",
    "    yhat = output  # forecast() now returns the prediction directly\n",
    "    predictions.append(yhat)\n",
    "    obs = test[t]\n",
    "    history.append(obs)\n",
    "    print('predicted=%f, actual=%f' % (yhat, obs))\n",
    "\n",
    "error = mean_squared_error(test, predictions)\n",
    "print('Test RMSE: %.3f' % np.sqrt(error))\n",
    "\n",
    "# Plot results\n",
    "plt.figure(figsize=(12,6))\n",
    "plt.plot(test, label='Actual')\n",
    "plt.plot(predictions, color='red', label='Predicted')\n",
    "plt.title('ARIMA Model: Actual vs Predicted')\n",
    "plt.xlabel('Time Steps')\n",
    "plt.ylabel('Value')\n",
    "plt.legend()\n",
    "plt.show()"
   ]
  },
  {
   "cell_type": "code",
   "execution_count": 29,
   "id": "5a36c934",
   "metadata": {},
   "outputs": [
    {
     "data": {
      "text/html": [
       "<div>\n",
       "<style scoped>\n",
       "    .dataframe tbody tr th:only-of-type {\n",
       "        vertical-align: middle;\n",
       "    }\n",
       "\n",
       "    .dataframe tbody tr th {\n",
       "        vertical-align: top;\n",
       "    }\n",
       "\n",
       "    .dataframe thead th {\n",
       "        text-align: right;\n",
       "    }\n",
       "</style>\n",
       "<table border=\"1\" class=\"dataframe\">\n",
       "  <thead>\n",
       "    <tr style=\"text-align: right;\">\n",
       "      <th></th>\n",
       "      <th>actual</th>\n",
       "      <th>prediction</th>\n",
       "    </tr>\n",
       "    <tr>\n",
       "      <th>Date</th>\n",
       "      <th></th>\n",
       "      <th></th>\n",
       "    </tr>\n",
       "  </thead>\n",
       "  <tbody>\n",
       "    <tr>\n",
       "      <th>2024-03-06</th>\n",
       "      <td>8.309997</td>\n",
       "      <td>[8.29650006894063]</td>\n",
       "    </tr>\n",
       "    <tr>\n",
       "      <th>2024-03-07</th>\n",
       "      <td>8.320838</td>\n",
       "      <td>[8.311486181653205]</td>\n",
       "    </tr>\n",
       "    <tr>\n",
       "      <th>2024-03-11</th>\n",
       "      <td>8.324179</td>\n",
       "      <td>[8.319670248746865]</td>\n",
       "    </tr>\n",
       "    <tr>\n",
       "      <th>2024-03-12</th>\n",
       "      <td>8.340993</td>\n",
       "      <td>[8.323705710791192]</td>\n",
       "    </tr>\n",
       "    <tr>\n",
       "      <th>2024-03-13</th>\n",
       "      <td>8.330623</td>\n",
       "      <td>[8.340663401710817]</td>\n",
       "    </tr>\n",
       "    <tr>\n",
       "      <th>...</th>\n",
       "      <td>...</td>\n",
       "      <td>...</td>\n",
       "    </tr>\n",
       "    <tr>\n",
       "      <th>2024-06-21</th>\n",
       "      <td>8.245581</td>\n",
       "      <td>[8.240216531317976]</td>\n",
       "    </tr>\n",
       "    <tr>\n",
       "      <th>2024-06-24</th>\n",
       "      <td>8.247168</td>\n",
       "      <td>[8.245294890211389]</td>\n",
       "    </tr>\n",
       "    <tr>\n",
       "      <th>2024-06-25</th>\n",
       "      <td>8.252824</td>\n",
       "      <td>[8.246635399245447]</td>\n",
       "    </tr>\n",
       "    <tr>\n",
       "      <th>2024-06-26</th>\n",
       "      <td>8.257347</td>\n",
       "      <td>[8.25304580109069]</td>\n",
       "    </tr>\n",
       "    <tr>\n",
       "      <th>2024-06-27</th>\n",
       "      <td>8.277450</td>\n",
       "      <td>[8.25696452556935]</td>\n",
       "    </tr>\n",
       "  </tbody>\n",
       "</table>\n",
       "<p>75 rows × 2 columns</p>\n",
       "</div>"
      ],
      "text/plain": [
       "              actual           prediction\n",
       "Date                                     \n",
       "2024-03-06  8.309997   [8.29650006894063]\n",
       "2024-03-07  8.320838  [8.311486181653205]\n",
       "2024-03-11  8.324179  [8.319670248746865]\n",
       "2024-03-12  8.340993  [8.323705710791192]\n",
       "2024-03-13  8.330623  [8.340663401710817]\n",
       "...              ...                  ...\n",
       "2024-06-21  8.245581  [8.240216531317976]\n",
       "2024-06-24  8.247168  [8.245294890211389]\n",
       "2024-06-25  8.252824  [8.246635399245447]\n",
       "2024-06-26  8.257347   [8.25304580109069]\n",
       "2024-06-27  8.277450   [8.25696452556935]\n",
       "\n",
       "[75 rows x 2 columns]"
      ]
     },
     "execution_count": 29,
     "metadata": {},
     "output_type": "execute_result"
    }
   ],
   "source": [
    "\n",
    "result = pd.DataFrame(y)[train_size:]\n",
    "result.columns = [\"actual\"]\n",
    "result[\"prediction\"] = predictions\n",
    "result"
   ]
  },
  {
   "cell_type": "code",
   "execution_count": null,
   "id": "3a13f6af",
   "metadata": {},
   "outputs": [],
   "source": []
  },
  {
   "cell_type": "code",
   "execution_count": null,
   "id": "cec8e968",
   "metadata": {},
   "outputs": [],
   "source": [
    "\n"
   ]
  },
  {
   "cell_type": "code",
   "execution_count": null,
   "id": "e40d4e24",
   "metadata": {},
   "outputs": [],
   "source": []
  },
  {
   "cell_type": "code",
   "execution_count": null,
   "id": "a797acb1",
   "metadata": {},
   "outputs": [],
   "source": []
  }
 ],
 "metadata": {
  "kernelspec": {
   "display_name": "Python 3 (ipykernel)",
   "language": "python",
   "name": "python3"
  },
  "language_info": {
   "codemirror_mode": {
    "name": "ipython",
    "version": 3
   },
   "file_extension": ".py",
   "mimetype": "text/x-python",
   "name": "python",
   "nbconvert_exporter": "python",
   "pygments_lexer": "ipython3",
   "version": "3.9.12"
  }
 },
 "nbformat": 4,
 "nbformat_minor": 5
}
